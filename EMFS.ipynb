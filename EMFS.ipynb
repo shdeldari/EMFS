{
 "cells": [
  {
   "cell_type": "code",
   "execution_count": 16,
   "metadata": {},
   "outputs": [],
   "source": [
    "#read the data file and coresponding segment boundaries\n",
    "users = [1,2,4,5,7,8,9,10,11,12,13,14,15,16,17,18]\n",
    "user_list = [str(x) for x in users]\n",
    "#segment boundaries file\n",
    "segment_file_path = \"H:\\\\Documents\\\\Research\\\\Matlabl Source Codes\\\\FeatureExtraction\\\\statistics\\\\emotion-5TT\\\\\"\n",
    "segment_file_name = \"emotion_12_segment.csv\"\n",
    "#user data files\n",
    "user_file_path = \"C:\\\\Users\\\\e94486\\\\Documents\\\\Dataset\\\\AngryOrClimbingStairs\\\\PreprocessedData\\\\rawData\\\\\"\n",
    "user_file_name = \"nolabel_S_E_Emotion_p{}_sensorFusion.csv\""
   ]
  },
  {
   "cell_type": "code",
   "execution_count": 75,
   "metadata": {},
   "outputs": [],
   "source": [
    "def find_nonoverlapping_boundaries(cp_list, threshold):\n",
    "    t =[0]\n",
    "    for i in cp_list:\n",
    "        dif = [abs(x - i) for x in t]\n",
    "        if all(x >= threshold for x in dif):\n",
    "            t.append(i)\n",
    "         \n",
    "    return t"
   ]
  },
  {
   "cell_type": "code",
   "execution_count": 101,
   "metadata": {},
   "outputs": [
    {
     "name": "stdout",
     "output_type": "stream",
     "text": [
      "import done\n"
     ]
    }
   ],
   "source": [
    "#for matrix math\n",
    "import numpy as np\n",
    "#for data preprocessing\n",
    "import pandas as pd\n",
    "from math import sqrt, log, exp, pi\n",
    "from random import uniform\n",
    "# For plotting\n",
    "import matplotlib.pyplot as plt\n",
    "import seaborn as sns\n",
    "sns.set_style(\"white\")\n",
    "%matplotlib inline\n",
    "#for normalization + probability density function computation\n",
    "from scipy import stats\n",
    "\n",
    "from sklearn.decomposition import PCA\n",
    "from sklearn.mixture import GaussianMixture\n",
    "print(\"import done\")"
   ]
  },
  {
   "cell_type": "code",
   "execution_count": 103,
   "metadata": {},
   "outputs": [
    {
     "name": "stdout",
     "output_type": "stream",
     "text": [
      "(18, 12)\n",
      "TT >>> 7\n"
     ]
    },
    {
     "data": {
      "image/png": "[encoded data removed]",
      "text/plain": [
       "<Figure size 432x288 with 1 Axes>"
      ]
     },
     "metadata": {
      "needs_background": "light"
     },
     "output_type": "display_data"
    }
   ],
   "source": [
    "seg_boundaries = pd.read_csv(segment_file_path+segment_file_name, header=None)\n",
    "seg = np.array(seg_boundaries)\n",
    "print(seg_boundaries.shape)\n",
    "n_components = np.arange(5, 50, 5)\n",
    "for x in [1]:\n",
    "    data = np.array(pd.read_csv(user_file_path + user_file_name.format(x)))\n",
    "    [len_TS, num_TS ] = data.shape\n",
    "    \n",
    "    TT = sorted(find_nonoverlapping_boundaries(seg[x-1,0:-1], 3000))\n",
    "    print(\"TT >>>\", len(TT))\n",
    "    TT.append(len_TS)   \n",
    "    for t in range(1,len(TT),1):\n",
    "    #for t in range(1,2):\n",
    "        #ts = data[TT[t-1]:TT[t], :]\n",
    "        # For data visiualisation calculate left and right of the graph\n",
    "        \n",
    "        pca = PCA(0.99, whiten=True)\n",
    "        ts = pca.fit_transform(data[TT[t-1]:TT[t], :])\n",
    "        ts.shape      \n",
    "        \n",
    "        models = [GaussianMixture(n) for n in n_components]\n",
    "        aics = [model.fit(ts).aic(ts) for model in models]\n",
    "        bics = [model.fit(ts).bic(ts) for model in models]\n",
    "        plt.plot(n_components, aics);\n",
    "        #gmm = GaussianMixture(n_components = C, tol=0.000001)\n",
    "        #gmm.fit(ts) # Parameters: array-like, shape (n_samples, n_features), 1 dimension dataset so 1 feature\n",
    "        #print(gmm)\n",
    "        Gaussian_nr = 1\n",
    "        # predict latent values\n",
    "        #yhat = gmm.predict_proba(ts)\n",
    "       \n",
    "        #print(yhat[:5].round(3))\n",
    "        #plt.plot(yhat)\n",
    "        #print(\"yhat shape: \",yhat.shape)\n",
    "        #for mu, sd, p in zip(gmm.means_.flatten(), np.sqrt(gmm.covariances_.flatten()), gmm.weights_):\n",
    "        #    print('Gaussian {:}: μ = {:.2}, σ = {:.2}, weight = {:.2}'.format(Gaussian_nr, mu, sd, p))\n",
    "        #sns.distplot(ts, bins=20, kde=False, norm_hist=True)\n",
    "        #gmm_sum = np.exp([gmm.score_samples(e.reshape(-1, 1)) for e in x]) #gmm gives log probability, hence the exp() function\n",
    "        #plt.plot(x, gmm_sum, label='gaussian mixture');\n",
    "        #plt.legend();"
   ]
  },
  {
   "cell_type": "code",
   "execution_count": 97,
   "metadata": {},
   "outputs": [
    {
     "data": {
      "text/plain": [
       "[<matplotlib.lines.Line2D at 0xec60940>]"
      ]
     },
     "execution_count": 97,
     "metadata": {},
     "output_type": "execute_result"
    },
    {
     "data": {
      "image/png": "[encoded data removed]",
      "text/plain": [
       "<Figure size 432x288 with 1 Axes>"
      ]
     },
     "metadata": {
      "needs_background": "light"
     },
     "output_type": "display_data"
    }
   ],
   "source": [
    "plt.plot(yhat)"
   ]
  },
  {
   "cell_type": "code",
   "execution_count": null,
   "metadata": {},
   "outputs": [],
   "source": []
  }
 ],
 "metadata": {
  "kernelspec": {
   "display_name": "Python 3",
   "language": "python",
   "name": "python3"
  },
  "language_info": {
   "codemirror_mode": {
    "name": "ipython",
    "version": 3
   },
   "file_extension": ".py",
   "mimetype": "text/x-python",
   "name": "python",
   "nbconvert_exporter": "python",
   "pygments_lexer": "ipython3",
   "version": "3.7.3"
  }
 },
 "nbformat": 4,
 "nbformat_minor": 2
}
